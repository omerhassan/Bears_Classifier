{
 "cells": [
  {
   "cell_type": "code",
   "execution_count": null,
   "id": "500e0d3a",
   "metadata": {},
   "outputs": [],
   "source": [
    "from fastai.vision.all import *\n",
    "from fastai.vision.widgets import *"
   ]
  },
  {
   "cell_type": "markdown",
   "id": "51f2d572",
   "metadata": {},
   "source": [
    "## The Amazing Bears Classifier!\n",
    "\n",
    "You need to know whether you're being chased by a dengeerous grizzly, black or a sweet teddy bear.\n",
    "Take a pic, and click 'upload' to classify it.\n",
    "(Important: this only handles grizzly bears, black bears, and teddy bears. It will **not** give a sensible answer for polar bears, a bear market, a bear of a man, or hot dogs.\n",
    "\n",
    "> `Omer Hassan` [My github profile](https://github.com/omerhassan)"
   ]
  },
  {
   "cell_type": "code",
   "execution_count": null,
   "id": "e0f48a37",
   "metadata": {
    "scrolled": true
   },
   "outputs": [],
   "source": [
    "path = Path()"
   ]
  },
  {
   "cell_type": "code",
   "execution_count": null,
   "id": "e389be3a",
   "metadata": {},
   "outputs": [],
   "source": [
    "path = Path()\n",
    "learn_inf = load_learner(path/'export.pkl', cpu=True)\n",
    "btn_upload = widgets.FileUpload()\n",
    "out_pl = widgets.Output()\n",
    "lbl_pred = widgets.Label()\n",
    "btn_run = widgets.Button(description='Classify')"
   ]
  },
  {
   "cell_type": "code",
   "execution_count": null,
   "id": "a54f2060",
   "metadata": {},
   "outputs": [],
   "source": [
    "def on_click_classify(change):\n",
    "    img = PILImage.create(btn_upload.data[-1])\n",
    "    out_pl.clear_output()\n",
    "    with out_pl: display(img.to_thumb(128,128))\n",
    "    pred,pred_idx,probs = learn_inf.predict(img)\n",
    "    lbl_pred.value = f'Prediction: {pred}; Probability: {probs[pred_idx]:.04f}'"
   ]
  },
  {
   "cell_type": "code",
   "execution_count": null,
   "id": "ba63070c",
   "metadata": {},
   "outputs": [],
   "source": [
    "btn_run.on_click(on_click_classify)"
   ]
  },
  {
   "cell_type": "code",
   "execution_count": null,
   "id": "7b6de16c",
   "metadata": {},
   "outputs": [],
   "source": [
    "display(VBox([widgets.Label('Select your bear!'), btn_upload, btn_run, out_pl, lbl_pred]))"
   ]
  }
 ],
 "metadata": {
  "kernelspec": {
   "display_name": "Python 3",
   "language": "python",
   "name": "python3"
  },
  "language_info": {
   "codemirror_mode": {
    "name": "ipython",
    "version": 3
   },
   "file_extension": ".py",
   "mimetype": "text/x-python",
   "name": "python",
   "nbconvert_exporter": "python",
   "pygments_lexer": "ipython3",
   "version": "3.6.9"
  }
 },
 "nbformat": 4,
 "nbformat_minor": 5
}
